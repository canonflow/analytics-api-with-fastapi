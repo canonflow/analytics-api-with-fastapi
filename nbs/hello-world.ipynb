{
 "cells": [
  {
   "cell_type": "code",
   "id": "92bc1de5",
   "metadata": {
    "ExecuteTime": {
     "end_time": "2025-05-31T03:53:40.917124Z",
     "start_time": "2025-05-31T03:53:40.894855Z"
    }
   },
   "source": [
    "print(\"Hello world\")"
   ],
   "outputs": [
    {
     "name": "stdout",
     "output_type": "stream",
     "text": [
      "Hello world\n"
     ]
    }
   ],
   "execution_count": 1
  },
  {
   "metadata": {
    "ExecuteTime": {
     "end_time": "2025-05-31T03:55:09.986637Z",
     "start_time": "2025-05-31T03:55:09.974366Z"
    }
   },
   "cell_type": "code",
   "source": [
    "import requests\n",
    "path = \"/healthz\"\n",
    "base_url = \"http://localhost:8002\"\n",
    "\n",
    "endpoint = f\"{base_url}{path}\"\n",
    "endpoint"
   ],
   "id": "d9e3a2464d4bd82e",
   "outputs": [
    {
     "data": {
      "text/plain": [
       "'http://localhost:8002/healthz'"
      ]
     },
     "execution_count": 8,
     "metadata": {},
     "output_type": "execute_result"
    }
   ],
   "execution_count": 8
  },
  {
   "metadata": {
    "ExecuteTime": {
     "end_time": "2025-05-31T03:55:10.205062Z",
     "start_time": "2025-05-31T03:55:10.178438Z"
    }
   },
   "cell_type": "code",
   "source": [
    "response = requests.get(endpoint)\n",
    "print(response.ok)"
   ],
   "id": "1d866a79c71a9ba0",
   "outputs": [
    {
     "name": "stdout",
     "output_type": "stream",
     "text": [
      "True\n"
     ]
    }
   ],
   "execution_count": 9
  },
  {
   "metadata": {},
   "cell_type": "code",
   "outputs": [],
   "execution_count": null,
   "source": "",
   "id": "6d9f059e7b88cd6e"
  }
 ],
 "metadata": {
  "kernelspec": {
   "display_name": ".venv",
   "language": "python",
   "name": "python3"
  },
  "language_info": {
   "name": "python",
   "version": "3.10.4"
  }
 },
 "nbformat": 4,
 "nbformat_minor": 5
}
